{
 "cells": [
  {
   "cell_type": "code",
   "execution_count": 12,
   "id": "72f101b5",
   "metadata": {},
   "outputs": [],
   "source": [
    "import torch\n",
    "import pandas as pd\n",
    "import os\n",
    "from torch.utils.data import Dataset\n",
    "from PIL import Image\n",
    "from transformers import VisionEncoderDecoderModel\n",
    "from transformers import TrOCRProcessor\n"
   ]
  },
  {
   "cell_type": "code",
   "execution_count": 13,
   "id": "167c2c46",
   "metadata": {},
   "outputs": [
    {
     "name": "stderr",
     "output_type": "stream",
     "text": [
      "Some weights of VisionEncoderDecoderModel were not initialized from the model checkpoint at microsoft/trocr-base-stage1 and are newly initialized: ['encoder.pooler.dense.weight', 'encoder.pooler.dense.bias']\n",
      "You should probably TRAIN this model on a down-stream task to be able to use it for predictions and inference.\n"
     ]
    },
    {
     "data": {
      "text/plain": [
       "<All keys matched successfully>"
      ]
     },
     "execution_count": 13,
     "metadata": {},
     "output_type": "execute_result"
    }
   ],
   "source": [
    "model = VisionEncoderDecoderModel.from_pretrained(\"microsoft/trocr-base-stage1\")\n",
    "processor = TrOCRProcessor.from_pretrained(\"microsoft/trocr-base-handwritten\")\n",
    "path = \"./model/model\"\n",
    "model.load_state_dict(torch.load(os.path.join(path,'pytorch_model.bin'),map_location=torch.device('cpu')))"
   ]
  },
  {
   "cell_type": "code",
   "execution_count": 14,
   "id": "fc3a921b",
   "metadata": {},
   "outputs": [],
   "source": [
    "image = Image.open('SKMBT_75122072616550_Page_47_Image_0001.png').convert(\"RGB\")"
   ]
  },
  {
   "cell_type": "code",
   "execution_count": 15,
   "id": "58c17b38",
   "metadata": {},
   "outputs": [],
   "source": [
    "coordinates = [[171, 444, 362, 537],\n",
    "  [556, 444, 661, 523],\n",
    "  [1015, 427, 1206, 516],\n",
    "  [1420, 446, 1606, 516],\n",
    "  [1109, 653, 1609, 850],\n",
    "  [1125, 664, 1242, 720],\n",
    "  [1134, 727, 1599, 834],\n",
    "  [1160, 1401, 1321, 1501],\n",
    "  [1196, 1648, 1293, 1732],\n",
    "  [1227, 1962, 1326, 2032],\n",
    "  [37, 734, 900, 957],\n",
    "  [47, 748, 192, 839],\n",
    "  [217, 748, 613, 848],\n",
    "  [656, 755, 844, 839],\n",
    "  [241, 846, 780, 936],\n",
    "  [235, 760, 388, 837],\n",
    "  [432, 760, 597, 830],\n",
    "  [250, 855, 437, 927],\n",
    "  [538, 857, 771, 920],\n",
    "  [14, 1009, 780, 1229],\n",
    "  [29, 1046, 134, 1143],\n",
    "  [202, 1027, 401, 1122],\n",
    "  [220, 1111, 765, 1202],\n",
    "  [228, 1129, 437, 1188],\n",
    "  [500, 1125, 752, 1192]]"
   ]
  },
  {
   "cell_type": "code",
   "execution_count": 16,
   "id": "aa9e227e",
   "metadata": {},
   "outputs": [],
   "source": [
    "labels = ['Iqra',\n",
    "  '29',\n",
    "  'Female',\n",
    "  '4-7-15',\n",
    "  'Pain\\nNutritional deficiency',\n",
    "  'Pain',\n",
    "  'Nutritional deficiency',\n",
    "  '110/70',\n",
    "  '98',\n",
    "  '66',\n",
    "  'Tab Arinac Forte 400 mg\\n2+0+1 14 days',\n",
    "  'Tab',\n",
    "  'Arinac Forte',\n",
    "  '400mg',\n",
    "  '2+0+1 14 days',\n",
    "  'Arinac',\n",
    "  'Forte',\n",
    "  '2+0+1',\n",
    "  '14 days',\n",
    "  'Cap Bisleri\\n1+0+0 7 days',\n",
    "  'Cap',\n",
    "  'Bisleri',\n",
    "  '1+0+0 7 days',\n",
    "  '1+0+0',\n",
    "  '7 days']"
   ]
  },
  {
   "cell_type": "code",
   "execution_count": null,
   "id": "d4b45cd5",
   "metadata": {},
   "outputs": [],
   "source": [
    "c = 0\n",
    "for i in coordinates:\n",
    "    img2 = image.crop((i[0], i[1], i[2], i[3]))\n",
    "    pixel_values = processor(img2, return_tensors=\"pt\").pixel_values\n",
    "    img2.show()\n",
    "    # inference\n",
    "    generated_ids = model.generate(pixel_values)\n",
    "    generated_text = processor.batch_decode(generated_ids, skip_special_tokens=True)[0]\n",
    "    print (generated_text)\n",
    "    c = c + 1"
   ]
  },
  {
   "cell_type": "code",
   "execution_count": 18,
   "id": "9050354f",
   "metadata": {},
   "outputs": [],
   "source": [
    "f = open('output.txt', 'w')"
   ]
  },
  {
   "cell_type": "code",
   "execution_count": 19,
   "id": "eb7ce4bd",
   "metadata": {},
   "outputs": [
    {
     "name": "stderr",
     "output_type": "stream",
     "text": [
      "Setting `pad_token_id` to `eos_token_id`:2 for open-end generation.\n",
      "Setting `pad_token_id` to `eos_token_id`:2 for open-end generation.\n",
      "Setting `pad_token_id` to `eos_token_id`:2 for open-end generation.\n",
      "Setting `pad_token_id` to `eos_token_id`:2 for open-end generation.\n",
      "Setting `pad_token_id` to `eos_token_id`:2 for open-end generation.\n",
      "Setting `pad_token_id` to `eos_token_id`:2 for open-end generation.\n",
      "Setting `pad_token_id` to `eos_token_id`:2 for open-end generation.\n",
      "Setting `pad_token_id` to `eos_token_id`:2 for open-end generation.\n",
      "Setting `pad_token_id` to `eos_token_id`:2 for open-end generation.\n",
      "Setting `pad_token_id` to `eos_token_id`:2 for open-end generation.\n",
      "Setting `pad_token_id` to `eos_token_id`:2 for open-end generation.\n",
      "Setting `pad_token_id` to `eos_token_id`:2 for open-end generation.\n",
      "Setting `pad_token_id` to `eos_token_id`:2 for open-end generation.\n",
      "Setting `pad_token_id` to `eos_token_id`:2 for open-end generation.\n",
      "Setting `pad_token_id` to `eos_token_id`:2 for open-end generation.\n",
      "Setting `pad_token_id` to `eos_token_id`:2 for open-end generation.\n",
      "Setting `pad_token_id` to `eos_token_id`:2 for open-end generation.\n",
      "Setting `pad_token_id` to `eos_token_id`:2 for open-end generation.\n",
      "Setting `pad_token_id` to `eos_token_id`:2 for open-end generation.\n",
      "Setting `pad_token_id` to `eos_token_id`:2 for open-end generation.\n",
      "Setting `pad_token_id` to `eos_token_id`:2 for open-end generation.\n",
      "Setting `pad_token_id` to `eos_token_id`:2 for open-end generation.\n",
      "Setting `pad_token_id` to `eos_token_id`:2 for open-end generation.\n",
      "Setting `pad_token_id` to `eos_token_id`:2 for open-end generation.\n",
      "Setting `pad_token_id` to `eos_token_id`:2 for open-end generation.\n"
     ]
    }
   ],
   "source": [
    "c = 0\n",
    "for i in coordinates:\n",
    "    img2 = image.crop((i[0], i[1], i[2], i[3]))\n",
    "    pixel_values = processor(img2, return_tensors=\"pt\").pixel_values\n",
    "    \n",
    "    # inference\n",
    "    generated_ids = model.generate(pixel_values)\n",
    "    generated_text = processor.batch_decode(generated_ids, skip_special_tokens=True)[0]\n",
    "    #if (('MEDICINE NAME' in generated_text) or (generated_text == '')):\n",
    "    img2.show()\n",
    "    f.write(generated_text)\n",
    "    f.write('\\n')\n",
    "    c = c + 1"
   ]
  },
  {
   "cell_type": "code",
   "execution_count": 20,
   "id": "eb52cb41",
   "metadata": {},
   "outputs": [],
   "source": [
    "f.close()"
   ]
  },
  {
   "cell_type": "code",
   "execution_count": null,
   "id": "a327b2d3",
   "metadata": {},
   "outputs": [],
   "source": []
  }
 ],
 "metadata": {
  "kernelspec": {
   "display_name": "Python 3",
   "language": "python",
   "name": "python3"
  },
  "language_info": {
   "codemirror_mode": {
    "name": "ipython",
    "version": 3
   },
   "file_extension": ".py",
   "mimetype": "text/x-python",
   "name": "python",
   "nbconvert_exporter": "python",
   "pygments_lexer": "ipython3",
   "version": "3.8.8"
  }
 },
 "nbformat": 4,
 "nbformat_minor": 5
}
